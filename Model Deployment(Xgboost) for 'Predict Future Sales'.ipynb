{
 "cells": [
  {
   "cell_type": "code",
   "execution_count": 2,
   "metadata": {},
   "outputs": [],
   "source": [
    "import numpy as np\n",
    "import pandas as pd\n",
    "from itertools import product\n",
    "from sklearn.preprocessing import LabelEncoder\n",
    "import seaborn as sns\n",
    "import matplotlib.pyplot as plt\n",
    "%matplotlib inline\n",
    "from xgboost import XGBRegressor"
   ]
  },
  {
   "cell_type": "code",
   "execution_count": 3,
   "metadata": {},
   "outputs": [],
   "source": [
    "import sys\n",
    "import gc\n",
    "import pickle"
   ]
  },
  {
   "cell_type": "code",
   "execution_count": 4,
   "metadata": {},
   "outputs": [
    {
     "name": "stdout",
     "output_type": "stream",
     "text": [
      "<class 'pandas.core.frame.DataFrame'>\n",
      "Int64Index: 6639294 entries, 4488710 to 11128003\n",
      "Data columns (total 41 columns):\n",
      " #   Column                                Dtype  \n",
      "---  ------                                -----  \n",
      " 0   date_block_num                        int8   \n",
      " 1   shop_id                               int8   \n",
      " 2   item_id                               int16  \n",
      " 3   item_cnt_month                        float32\n",
      " 4   ID                                    float64\n",
      " 5   city_code                             int8   \n",
      " 6   item_category_id                      int8   \n",
      " 7   type_code                             int8   \n",
      " 8   subtype_code                          int8   \n",
      " 9   item_cnt_month_lag_1                  float32\n",
      " 10  item_cnt_month_lag_2                  float32\n",
      " 11  item_cnt_month_lag_3                  float32\n",
      " 12  item_cnt_month_lag_6                  float32\n",
      " 13  item_cnt_month_lag_12                 float32\n",
      " 14  date_avg_item_cnt_lag_1               float32\n",
      " 15  date_item_avg_item_cnt_lag_1          float32\n",
      " 16  date_item_avg_item_cnt_lag_2          float32\n",
      " 17  date_item_avg_item_cnt_lag_3          float32\n",
      " 18  date_item_avg_item_cnt_lag_6          float32\n",
      " 19  date_item_avg_item_cnt_lag_12         float32\n",
      " 20  date_shop_avg_item_cnt_lag_1          float32\n",
      " 21  date_shop_avg_item_cnt_lag_2          float32\n",
      " 22  date_shop_avg_item_cnt_lag_3          float32\n",
      " 23  date_shop_avg_item_cnt_lag_6          float32\n",
      " 24  date_shop_avg_item_cnt_lag_12         float32\n",
      " 25  date_cat_avg_item_cnt_lag_1           float32\n",
      " 26  date_shop_cat_avg_item_cnt_lag_1      float32\n",
      " 27  date_shop_type_avg_item_cnt_lag_1     float32\n",
      " 28  date_shop_subtype_avg_item_cnt_lag_1  float32\n",
      " 29  date_city_avg_item_cnt_lag_1          float32\n",
      " 30  date_item_city_avg_item_cnt_lag_1     float32\n",
      " 31  date_type_avg_item_cnt_lag_1          float32\n",
      " 32  date_subtype_avg_item_cnt_lag_1       float32\n",
      " 33  delta_price_lag                       float32\n",
      " 34  delta_revenue_lag_1                   float32\n",
      " 35  month                                 int8   \n",
      " 36  days                                  int8   \n",
      " 37  item_shop_last_sale                   int8   \n",
      " 38  item_last_sale                        int8   \n",
      " 39  item_shop_first_sale                  int8   \n",
      " 40  item_first_sale                       int8   \n",
      "dtypes: float32(27), float64(1), int16(1), int8(12)\n",
      "memory usage: 873.8 MB\n"
     ]
    }
   ],
   "source": [
    "data = pd.read_pickle('dataframe.pkl')\n",
    "data.info()"
   ]
  },
  {
   "cell_type": "code",
   "execution_count": 5,
   "metadata": {},
   "outputs": [],
   "source": [
    "import xgboost as xgb\n"
   ]
  },
  {
   "cell_type": "code",
   "execution_count": null,
   "metadata": {},
   "outputs": [
    {
     "name": "stdout",
     "output_type": "stream",
     "text": [
      "[08:59:12] WARNING: C:/Users/Administrator/workspace/xgboost-win64_release_1.2.0/src/objective/regression_obj.cu:174: reg:linear is now deprecated in favor of reg:squarederror.\n",
      "[08:59:13] WARNING: C:\\Users\\Administrator\\workspace\\xgboost-win64_release_1.2.0\\src\\learner.cc:516: \n",
      "Parameters: { silent } might not be used.\n",
      "\n",
      "  This may not be accurate due to some parameters are only used in language bindings but\n",
      "  passed down to XGBoost core.  Or some parameters are not used but slip through this\n",
      "  verification. Please open an issue if you find above cases.\n",
      "\n",
      "\n",
      "[08:59:15] WARNING: C:\\Users\\Administrator\\workspace\\xgboost-win64_release_1.2.0\\src\\gbm\\gbtree.cc:139: Tree method is automatically selected to be 'approx' for faster speed. To use old behavior (exact greedy algorithm on single machine), set tree_method to 'exact'.\n"
     ]
    }
   ],
   "source": [
    "X_train = data[data.date_block_num < 34].drop(['item_cnt_month'], axis=1)\n",
    "Y_train = data[data.date_block_num < 34]['item_cnt_month']\n",
    "\n",
    "X_test = data[data.date_block_num == 34].drop(['item_cnt_month'], axis=1)\n",
    "\n",
    "params = {'booster': 'gbtree', 'objective': 'reg:linear', 'eta': 0.1, 'gamma': 1.3, 'min_child_weight': 5.0, 'max_depth': 9.0, 'subsample': 1.0, 'colsample_bytree': 0.7000000000000001, 'num_round': 500.0, 'nthread': 2, 'silent': 0, 'seed': 2019, 'max_evals': 200}\n",
    "\n",
    "model = xgb.sklearn.XGBRegressor(\n",
    "    max_depth=int(params['max_depth']),\n",
    "    learning_rate=params['eta'],\n",
    "    n_estimators=int(params['num_round']),\n",
    "    silent=False,\n",
    "    objective=params['objective'],\n",
    "    booster=params['booster'],\n",
    "    nthread=int(params['nthread']),\n",
    "    gamma=params['gamma'],\n",
    "    min_child_weight=params['min_child_weight'],\n",
    "    subsample=params['subsample'],\n",
    "    colsample_bytree=params['colsample_bytree'],\n",
    "    seed=params['seed']\n",
    ")\n",
    "model.fit(X_train, Y_train)\n",
    "pred = model.predict(X_test).clip(0, 20)"
   ]
  },
  {
   "cell_type": "code",
   "execution_count": 8,
   "metadata": {},
   "outputs": [],
   "source": [
    "test=pd.read_csv(r'C:\\Users\\HP\\Downloads\\predict future sales kaggle\\test.csv')"
   ]
  },
  {
   "cell_type": "code",
   "execution_count": 9,
   "metadata": {},
   "outputs": [],
   "source": [
    "submission = pd.DataFrame({\n",
    "    \"ID\": test.index, \n",
    "    \"item_cnt_month\": pred\n",
    "})\n",
    "submission.to_csv('submission_2.csv', index=False)"
   ]
  },
  {
   "cell_type": "code",
   "execution_count": null,
   "metadata": {},
   "outputs": [],
   "source": []
  }
 ],
 "metadata": {
  "kernelspec": {
   "display_name": "Python 3",
   "language": "python",
   "name": "python3"
  },
  "language_info": {
   "codemirror_mode": {
    "name": "ipython",
    "version": 3
   },
   "file_extension": ".py",
   "mimetype": "text/x-python",
   "name": "python",
   "nbconvert_exporter": "python",
   "pygments_lexer": "ipython3",
   "version": "3.8.3"
  }
 },
 "nbformat": 4,
 "nbformat_minor": 4
}
